{
 "cells": [
  {
   "cell_type": "code",
   "execution_count": 1,
   "id": "bbd61565",
   "metadata": {},
   "outputs": [],
   "source": [
    "# Import libraries\n",
    "import pandas as pd\n",
    "import numpy as np\n",
    "import matplotlib.pylab as plt\n",
    "import seaborn as sns\n",
    "%matplotlib inline\n",
    "import warnings\n",
    "warnings.filterwarnings('ignore')"
   ]
  },
  {
   "cell_type": "code",
   "execution_count": 2,
   "id": "ddb9b362",
   "metadata": {},
   "outputs": [],
   "source": [
    "# Import dataset\n",
    "data = pd.read_excel(\"C:\\Local Disk (A);\\Excelr\\Assignment Excelr\\\\18 Forecasting\\CocaCola_Sales_Rawdata.xlsx\")"
   ]
  },
  {
   "cell_type": "markdown",
   "id": "843d0f40",
   "metadata": {},
   "source": [
    "# EDA"
   ]
  },
  {
   "cell_type": "code",
   "execution_count": 3,
   "id": "cef07bcb",
   "metadata": {
    "scrolled": true
   },
   "outputs": [
    {
     "data": {
      "text/plain": [
       "(42, 2)"
      ]
     },
     "execution_count": 3,
     "metadata": {},
     "output_type": "execute_result"
    }
   ],
   "source": [
    "data.shape"
   ]
  },
  {
   "cell_type": "code",
   "execution_count": 4,
   "id": "83f19e74",
   "metadata": {},
   "outputs": [
    {
     "data": {
      "text/html": [
       "<div>\n",
       "<style scoped>\n",
       "    .dataframe tbody tr th:only-of-type {\n",
       "        vertical-align: middle;\n",
       "    }\n",
       "\n",
       "    .dataframe tbody tr th {\n",
       "        vertical-align: top;\n",
       "    }\n",
       "\n",
       "    .dataframe thead th {\n",
       "        text-align: right;\n",
       "    }\n",
       "</style>\n",
       "<table border=\"1\" class=\"dataframe\">\n",
       "  <thead>\n",
       "    <tr style=\"text-align: right;\">\n",
       "      <th></th>\n",
       "      <th>Quarter</th>\n",
       "      <th>Sales</th>\n",
       "    </tr>\n",
       "  </thead>\n",
       "  <tbody>\n",
       "    <tr>\n",
       "      <th>0</th>\n",
       "      <td>Q1_86</td>\n",
       "      <td>1734.827000</td>\n",
       "    </tr>\n",
       "    <tr>\n",
       "      <th>1</th>\n",
       "      <td>Q2_86</td>\n",
       "      <td>2244.960999</td>\n",
       "    </tr>\n",
       "    <tr>\n",
       "      <th>2</th>\n",
       "      <td>Q3_86</td>\n",
       "      <td>2533.804993</td>\n",
       "    </tr>\n",
       "    <tr>\n",
       "      <th>3</th>\n",
       "      <td>Q4_86</td>\n",
       "      <td>2154.962997</td>\n",
       "    </tr>\n",
       "    <tr>\n",
       "      <th>4</th>\n",
       "      <td>Q1_87</td>\n",
       "      <td>1547.818996</td>\n",
       "    </tr>\n",
       "  </tbody>\n",
       "</table>\n",
       "</div>"
      ],
      "text/plain": [
       "  Quarter        Sales\n",
       "0   Q1_86  1734.827000\n",
       "1   Q2_86  2244.960999\n",
       "2   Q3_86  2533.804993\n",
       "3   Q4_86  2154.962997\n",
       "4   Q1_87  1547.818996"
      ]
     },
     "execution_count": 4,
     "metadata": {},
     "output_type": "execute_result"
    }
   ],
   "source": [
    "data.head()"
   ]
  },
  {
   "cell_type": "code",
   "execution_count": 5,
   "id": "8ec5228e",
   "metadata": {
    "scrolled": true
   },
   "outputs": [
    {
     "name": "stdout",
     "output_type": "stream",
     "text": [
      "<class 'pandas.core.frame.DataFrame'>\n",
      "RangeIndex: 42 entries, 0 to 41\n",
      "Data columns (total 2 columns):\n",
      " #   Column   Non-Null Count  Dtype  \n",
      "---  ------   --------------  -----  \n",
      " 0   Quarter  42 non-null     object \n",
      " 1   Sales    42 non-null     float64\n",
      "dtypes: float64(1), object(1)\n",
      "memory usage: 800.0+ bytes\n"
     ]
    }
   ],
   "source": [
    "data.info()"
   ]
  },
  {
   "cell_type": "code",
   "execution_count": 6,
   "id": "38f95f65",
   "metadata": {
    "scrolled": true
   },
   "outputs": [
    {
     "data": {
      "text/html": [
       "<div>\n",
       "<style scoped>\n",
       "    .dataframe tbody tr th:only-of-type {\n",
       "        vertical-align: middle;\n",
       "    }\n",
       "\n",
       "    .dataframe tbody tr th {\n",
       "        vertical-align: top;\n",
       "    }\n",
       "\n",
       "    .dataframe thead th {\n",
       "        text-align: right;\n",
       "    }\n",
       "</style>\n",
       "<table border=\"1\" class=\"dataframe\">\n",
       "  <thead>\n",
       "    <tr style=\"text-align: right;\">\n",
       "      <th></th>\n",
       "      <th>count</th>\n",
       "      <th>mean</th>\n",
       "      <th>std</th>\n",
       "      <th>min</th>\n",
       "      <th>25%</th>\n",
       "      <th>50%</th>\n",
       "      <th>75%</th>\n",
       "      <th>max</th>\n",
       "    </tr>\n",
       "  </thead>\n",
       "  <tbody>\n",
       "    <tr>\n",
       "      <th>Sales</th>\n",
       "      <td>42.0</td>\n",
       "      <td>2994.353308</td>\n",
       "      <td>977.930896</td>\n",
       "      <td>1547.818996</td>\n",
       "      <td>2159.714247</td>\n",
       "      <td>2782.376999</td>\n",
       "      <td>3609.25</td>\n",
       "      <td>5253.0</td>\n",
       "    </tr>\n",
       "  </tbody>\n",
       "</table>\n",
       "</div>"
      ],
      "text/plain": [
       "       count         mean         std          min          25%          50%  \\\n",
       "Sales   42.0  2994.353308  977.930896  1547.818996  2159.714247  2782.376999   \n",
       "\n",
       "           75%     max  \n",
       "Sales  3609.25  5253.0  "
      ]
     },
     "execution_count": 6,
     "metadata": {},
     "output_type": "execute_result"
    }
   ],
   "source": [
    "data.describe().T"
   ]
  },
  {
   "cell_type": "code",
   "execution_count": 7,
   "id": "d252e678",
   "metadata": {
    "scrolled": true
   },
   "outputs": [
    {
     "data": {
      "text/plain": [
       "Quarter    0\n",
       "Sales      0\n",
       "dtype: int64"
      ]
     },
     "execution_count": 7,
     "metadata": {},
     "output_type": "execute_result"
    }
   ],
   "source": [
    "# Check null values\n",
    "data.isnull().sum()"
   ]
  },
  {
   "cell_type": "markdown",
   "id": "48d0f62c",
   "metadata": {},
   "source": [
    "# Visulization"
   ]
  },
  {
   "cell_type": "code",
   "execution_count": 8,
   "id": "424eccf9",
   "metadata": {},
   "outputs": [
    {
     "data": {
      "text/plain": [
       "<AxesSubplot:xlabel='Quarter', ylabel='Sales'>"
      ]
     },
     "execution_count": 8,
     "metadata": {},
     "output_type": "execute_result"
    },
    {
     "data": {
      "image/png": "[encoded data removed]",
      "text/plain": [
       "<Figure size 800x500 with 1 Axes>"
      ]
     },
     "metadata": {},
     "output_type": "display_data"
    }
   ],
   "source": [
    "# Line Plot of passengers data\n",
    "fig, ax = plt.subplots(figsize=(8, 5))\n",
    "ax.set_facecolor(\"black\")\n",
    "sns.lineplot(x = \"Quarter\",y = \"Sales\", data = data, color = \"red\")"
   ]
  },
  {
   "cell_type": "code",
   "execution_count": 9,
   "id": "dc531e3a",
   "metadata": {},
   "outputs": [
    {
     "data": {
      "text/plain": [
       "<AxesSubplot:>"
      ]
     },
     "execution_count": 9,
     "metadata": {},
     "output_type": "execute_result"
    },
    {
     "data": {
      "image/png": "[encoded data removed]",
      "text/plain": [
       "<Figure size 800x500 with 1 Axes>"
      ]
     },
     "metadata": {},
     "output_type": "display_data"
    }
   ],
   "source": [
    "# Histogram\n",
    "ax = plt.axes()\n",
    "ax.set_facecolor(\"black\")\n",
    "data['Sales'].hist(figsize=(8,5), color = 'red')"
   ]
  },
  {
   "cell_type": "code",
   "execution_count": 10,
   "id": "5eac33f2",
   "metadata": {},
   "outputs": [
    {
     "data": {
      "text/plain": [
       "<AxesSubplot:ylabel='Density'>"
      ]
     },
     "execution_count": 10,
     "metadata": {},
     "output_type": "execute_result"
    },
    {
     "data": {
      "image/png": "[encoded data removed]",
      "text/plain": [
       "<Figure size 800x500 with 1 Axes>"
      ]
     },
     "metadata": {},
     "output_type": "display_data"
    }
   ],
   "source": [
    "# Density Plot\n",
    "ax = plt.axes()\n",
    "ax.set_facecolor(\"black\")\n",
    "data['Sales'].plot(kind = 'kde', figsize=(8,5), color = 'red')"
   ]
  },
  {
   "cell_type": "code",
   "execution_count": 11,
   "id": "0965b9a5",
   "metadata": {},
   "outputs": [
    {
     "data": {
      "image/png": "[encoded data removed]",
      "text/plain": [
       "<Figure size 640x480 with 1 Axes>"
      ]
     },
     "metadata": {},
     "output_type": "display_data"
    }
   ],
   "source": [
    "# Lagplot\n",
    "from pandas.plotting import lag_plot\n",
    "\n",
    "lag_plot(data['Sales'])\n",
    "plt.show()"
   ]
  },
  {
   "cell_type": "markdown",
   "id": "efdb080c",
   "metadata": {},
   "source": [
    "# Preprocessing Model"
   ]
  },
  {
   "cell_type": "code",
   "execution_count": 12,
   "id": "df4ccf7d",
   "metadata": {},
   "outputs": [],
   "source": [
    "# Import Libraries\n",
    "from sklearn.metrics import mean_squared_error\n",
    "import statsmodels.formula.api as smf \n",
    "from statsmodels.tsa.holtwinters import SimpleExpSmoothing # SES\n",
    "from statsmodels.tsa.holtwinters import Holt # Holts Exponential Smoothing\n",
    "from statsmodels.tsa.holtwinters import ExponentialSmoothing\n",
    "from statsmodels.tsa.seasonal import seasonal_decompose"
   ]
  },
  {
   "cell_type": "code",
   "execution_count": 13,
   "id": "d447ed41",
   "metadata": {},
   "outputs": [
    {
     "data": {
      "text/html": [
       "<div>\n",
       "<style scoped>\n",
       "    .dataframe tbody tr th:only-of-type {\n",
       "        vertical-align: middle;\n",
       "    }\n",
       "\n",
       "    .dataframe tbody tr th {\n",
       "        vertical-align: top;\n",
       "    }\n",
       "\n",
       "    .dataframe thead th {\n",
       "        text-align: right;\n",
       "    }\n",
       "</style>\n",
       "<table border=\"1\" class=\"dataframe\">\n",
       "  <thead>\n",
       "    <tr style=\"text-align: right;\">\n",
       "      <th></th>\n",
       "      <th>Quarter</th>\n",
       "      <th>Sales</th>\n",
       "    </tr>\n",
       "  </thead>\n",
       "  <tbody>\n",
       "    <tr>\n",
       "      <th>0</th>\n",
       "      <td>Q1_86</td>\n",
       "      <td>1734.827000</td>\n",
       "    </tr>\n",
       "    <tr>\n",
       "      <th>1</th>\n",
       "      <td>Q2_86</td>\n",
       "      <td>2244.960999</td>\n",
       "    </tr>\n",
       "    <tr>\n",
       "      <th>2</th>\n",
       "      <td>Q3_86</td>\n",
       "      <td>2533.804993</td>\n",
       "    </tr>\n",
       "    <tr>\n",
       "      <th>3</th>\n",
       "      <td>Q4_86</td>\n",
       "      <td>2154.962997</td>\n",
       "    </tr>\n",
       "    <tr>\n",
       "      <th>4</th>\n",
       "      <td>Q1_87</td>\n",
       "      <td>1547.818996</td>\n",
       "    </tr>\n",
       "  </tbody>\n",
       "</table>\n",
       "</div>"
      ],
      "text/plain": [
       "  Quarter        Sales\n",
       "0   Q1_86  1734.827000\n",
       "1   Q2_86  2244.960999\n",
       "2   Q3_86  2533.804993\n",
       "3   Q4_86  2154.962997\n",
       "4   Q1_87  1547.818996"
      ]
     },
     "execution_count": 13,
     "metadata": {},
     "output_type": "execute_result"
    }
   ],
   "source": [
    "# Data preprocessing for models\n",
    "data1 = data.copy()\n",
    "data1.head()"
   ]
  },
  {
   "cell_type": "code",
   "execution_count": 14,
   "id": "e5f2dbfc",
   "metadata": {},
   "outputs": [],
   "source": [
    "# Splitting data into Train and Test (77/33)\n",
    "Train = data1.head(32)\n",
    "Test = data1.tail(10)"
   ]
  },
  {
   "cell_type": "code",
   "execution_count": 15,
   "id": "8f7a24c2",
   "metadata": {},
   "outputs": [
    {
     "data": {
      "image/png": "[encoded data removed]",
      "text/plain": [
       "<Figure size 640x480 with 4 Axes>"
      ]
     },
     "metadata": {},
     "output_type": "display_data"
    }
   ],
   "source": [
    "decompose_ts_add = seasonal_decompose(data1.Sales,period=12)\n",
    "decompose_ts_add.plot()\n",
    "plt.show()"
   ]
  },
  {
   "cell_type": "code",
   "execution_count": 16,
   "id": "54c79f82",
   "metadata": {},
   "outputs": [],
   "source": [
    "def RMSE(org, pred):\n",
    "    rmse=np.sqrt(np.mean((np.array(org)-np.array(pred))**2))\n",
    "    return rmse"
   ]
  },
  {
   "cell_type": "code",
   "execution_count": 17,
   "id": "ace9fef8",
   "metadata": {},
   "outputs": [
    {
     "data": {
      "text/plain": [
       "1034.9359056453961"
      ]
     },
     "execution_count": 17,
     "metadata": {},
     "output_type": "execute_result"
    }
   ],
   "source": [
    "ses_model = SimpleExpSmoothing(Train[\"Sales\"]).fit()\n",
    "pred_ses = ses_model.predict(start = Test.index[0],end = Test.index[-1])\n",
    "rmse_ses_model = RMSE(Test.Sales, pred_ses)\n",
    "rmse_ses_model"
   ]
  },
  {
   "cell_type": "code",
   "execution_count": 18,
   "id": "56f7596f",
   "metadata": {},
   "outputs": [
    {
     "data": {
      "text/plain": [
       "941.6367810616845"
      ]
     },
     "execution_count": 18,
     "metadata": {},
     "output_type": "execute_result"
    }
   ],
   "source": [
    "hw_model = Holt(Train[\"Sales\"]).fit()\n",
    "pred_hw = hw_model.predict(start = Test.index[0],end = Test.index[-1])\n",
    "rmse_hw_model = RMSE(Test.Sales, pred_hw)\n",
    "rmse_hw_model"
   ]
  },
  {
   "cell_type": "code",
   "execution_count": 19,
   "id": "3b5cd370",
   "metadata": {
    "scrolled": false
   },
   "outputs": [
    {
     "data": {
      "text/plain": [
       "633.4394050169811"
      ]
     },
     "execution_count": 19,
     "metadata": {},
     "output_type": "execute_result"
    }
   ],
   "source": [
    "hwe_model_add_add = ExponentialSmoothing(Train[\"Sales\"],seasonal=\"add\",trend=\"add\",seasonal_periods=4).fit()\n",
    "pred_hwe_add_add = hwe_model_add_add.predict(start = Test.index[0],end = Test.index[-1])\n",
    "rmse_hwe_add_add_model = RMSE(Test.Sales, pred_hwe_add_add)\n",
    "rmse_hwe_add_add_model"
   ]
  },
  {
   "cell_type": "code",
   "execution_count": 20,
   "id": "ffa5d2e1",
   "metadata": {},
   "outputs": [
    {
     "data": {
      "text/plain": [
       "568.1679856842486"
      ]
     },
     "execution_count": 20,
     "metadata": {},
     "output_type": "execute_result"
    }
   ],
   "source": [
    "hwe_model_mul_add = ExponentialSmoothing(Train[\"Sales\"],seasonal=\"mul\",trend=\"add\",seasonal_periods=4).fit() \n",
    "pred_hwe_mul_add = hwe_model_mul_add.predict(start = Test.index[0],end = Test.index[-1])\n",
    "rmse_hwe_model_mul_add_model = RMSE(Test.Sales, pred_hwe_mul_add)\n",
    "rmse_hwe_model_mul_add_model"
   ]
  },
  {
   "cell_type": "code",
   "execution_count": 21,
   "id": "bd5a6f45",
   "metadata": {},
   "outputs": [
    {
     "data": {
      "text/html": [
       "<div>\n",
       "<style scoped>\n",
       "    .dataframe tbody tr th:only-of-type {\n",
       "        vertical-align: middle;\n",
       "    }\n",
       "\n",
       "    .dataframe tbody tr th {\n",
       "        vertical-align: top;\n",
       "    }\n",
       "\n",
       "    .dataframe thead th {\n",
       "        text-align: right;\n",
       "    }\n",
       "</style>\n",
       "<table border=\"1\" class=\"dataframe\">\n",
       "  <thead>\n",
       "    <tr style=\"text-align: right;\">\n",
       "      <th></th>\n",
       "      <th>MODEL</th>\n",
       "      <th>RMSE_Values</th>\n",
       "    </tr>\n",
       "  </thead>\n",
       "  <tbody>\n",
       "    <tr>\n",
       "      <th>3</th>\n",
       "      <td>rmse_hwe_model_mul_add_model</td>\n",
       "      <td>568.167986</td>\n",
       "    </tr>\n",
       "    <tr>\n",
       "      <th>2</th>\n",
       "      <td>rmse_hwe_add_add_model</td>\n",
       "      <td>633.439405</td>\n",
       "    </tr>\n",
       "    <tr>\n",
       "      <th>1</th>\n",
       "      <td>rmse_hw_model</td>\n",
       "      <td>941.636781</td>\n",
       "    </tr>\n",
       "    <tr>\n",
       "      <th>0</th>\n",
       "      <td>rmse_ses_model</td>\n",
       "      <td>1034.935906</td>\n",
       "    </tr>\n",
       "  </tbody>\n",
       "</table>\n",
       "</div>"
      ],
      "text/plain": [
       "                          MODEL  RMSE_Values\n",
       "3  rmse_hwe_model_mul_add_model   568.167986\n",
       "2        rmse_hwe_add_add_model   633.439405\n",
       "1                 rmse_hw_model   941.636781\n",
       "0                rmse_ses_model  1034.935906"
      ]
     },
     "execution_count": 21,
     "metadata": {},
     "output_type": "execute_result"
    }
   ],
   "source": [
    "data = {\"MODEL\":pd.Series([\"rmse_ses_model\",\"rmse_hw_model\",\"rmse_hwe_add_add_model\",\"rmse_hwe_model_mul_add_model\"]),\"RMSE_Values\":pd.Series([rmse_ses_model,rmse_hw_model,rmse_hwe_add_add_model,rmse_hwe_model_mul_add_model])}\n",
    "table_rmse=pd.DataFrame(data)\n",
    "table_rmse.sort_values(['RMSE_Values'])"
   ]
  },
  {
   "cell_type": "markdown",
   "id": "9bc0b702",
   "metadata": {},
   "source": [
    "# Model"
   ]
  },
  {
   "cell_type": "code",
   "execution_count": 22,
   "id": "ab5f159f",
   "metadata": {
    "scrolled": true
   },
   "outputs": [
    {
     "data": {
      "text/html": [
       "<div>\n",
       "<style scoped>\n",
       "    .dataframe tbody tr th:only-of-type {\n",
       "        vertical-align: middle;\n",
       "    }\n",
       "\n",
       "    .dataframe tbody tr th {\n",
       "        vertical-align: top;\n",
       "    }\n",
       "\n",
       "    .dataframe thead th {\n",
       "        text-align: right;\n",
       "    }\n",
       "</style>\n",
       "<table border=\"1\" class=\"dataframe\">\n",
       "  <thead>\n",
       "    <tr style=\"text-align: right;\">\n",
       "      <th></th>\n",
       "      <th>Sales</th>\n",
       "    </tr>\n",
       "    <tr>\n",
       "      <th>Quarter</th>\n",
       "      <th></th>\n",
       "    </tr>\n",
       "  </thead>\n",
       "  <tbody>\n",
       "    <tr>\n",
       "      <th>Q1_86</th>\n",
       "      <td>1734.827000</td>\n",
       "    </tr>\n",
       "    <tr>\n",
       "      <th>Q2_86</th>\n",
       "      <td>2244.960999</td>\n",
       "    </tr>\n",
       "    <tr>\n",
       "      <th>Q3_86</th>\n",
       "      <td>2533.804993</td>\n",
       "    </tr>\n",
       "    <tr>\n",
       "      <th>Q4_86</th>\n",
       "      <td>2154.962997</td>\n",
       "    </tr>\n",
       "    <tr>\n",
       "      <th>Q1_87</th>\n",
       "      <td>1547.818996</td>\n",
       "    </tr>\n",
       "  </tbody>\n",
       "</table>\n",
       "</div>"
      ],
      "text/plain": [
       "               Sales\n",
       "Quarter             \n",
       "Q1_86    1734.827000\n",
       "Q2_86    2244.960999\n",
       "Q3_86    2533.804993\n",
       "Q4_86    2154.962997\n",
       "Q1_87    1547.818996"
      ]
     },
     "execution_count": 22,
     "metadata": {},
     "output_type": "execute_result"
    }
   ],
   "source": [
    "# Data preprocessing for models\n",
    "data2 = pd.read_excel(\"C:\\Local Disk (A);\\Excelr\\Assignment Excelr\\\\18 Forecasting\\CocaCola_Sales_Rawdata.xlsx\",header=0,index_col=0, parse_dates=True)\n",
    "data2.head()"
   ]
  },
  {
   "cell_type": "code",
   "execution_count": 23,
   "id": "dd8cceab",
   "metadata": {},
   "outputs": [
    {
     "data": {
      "text/html": [
       "<div>\n",
       "<style scoped>\n",
       "    .dataframe tbody tr th:only-of-type {\n",
       "        vertical-align: middle;\n",
       "    }\n",
       "\n",
       "    .dataframe tbody tr th {\n",
       "        vertical-align: top;\n",
       "    }\n",
       "\n",
       "    .dataframe thead th {\n",
       "        text-align: right;\n",
       "    }\n",
       "</style>\n",
       "<table border=\"1\" class=\"dataframe\">\n",
       "  <thead>\n",
       "    <tr style=\"text-align: right;\">\n",
       "      <th></th>\n",
       "      <th>Sales</th>\n",
       "      <th>t</th>\n",
       "      <th>t_squared</th>\n",
       "      <th>sales_log</th>\n",
       "    </tr>\n",
       "    <tr>\n",
       "      <th>Quarter</th>\n",
       "      <th></th>\n",
       "      <th></th>\n",
       "      <th></th>\n",
       "      <th></th>\n",
       "    </tr>\n",
       "  </thead>\n",
       "  <tbody>\n",
       "    <tr>\n",
       "      <th>Q1_86</th>\n",
       "      <td>1734.827000</td>\n",
       "      <td>1</td>\n",
       "      <td>1</td>\n",
       "      <td>7.458663</td>\n",
       "    </tr>\n",
       "    <tr>\n",
       "      <th>Q2_86</th>\n",
       "      <td>2244.960999</td>\n",
       "      <td>2</td>\n",
       "      <td>4</td>\n",
       "      <td>7.716443</td>\n",
       "    </tr>\n",
       "    <tr>\n",
       "      <th>Q3_86</th>\n",
       "      <td>2533.804993</td>\n",
       "      <td>3</td>\n",
       "      <td>9</td>\n",
       "      <td>7.837477</td>\n",
       "    </tr>\n",
       "    <tr>\n",
       "      <th>Q4_86</th>\n",
       "      <td>2154.962997</td>\n",
       "      <td>4</td>\n",
       "      <td>16</td>\n",
       "      <td>7.675529</td>\n",
       "    </tr>\n",
       "    <tr>\n",
       "      <th>Q1_87</th>\n",
       "      <td>1547.818996</td>\n",
       "      <td>5</td>\n",
       "      <td>25</td>\n",
       "      <td>7.344602</td>\n",
       "    </tr>\n",
       "  </tbody>\n",
       "</table>\n",
       "</div>"
      ],
      "text/plain": [
       "               Sales  t  t_squared  sales_log\n",
       "Quarter                                      \n",
       "Q1_86    1734.827000  1          1   7.458663\n",
       "Q2_86    2244.960999  2          4   7.716443\n",
       "Q3_86    2533.804993  3          9   7.837477\n",
       "Q4_86    2154.962997  4         16   7.675529\n",
       "Q1_87    1547.818996  5         25   7.344602"
      ]
     },
     "execution_count": 23,
     "metadata": {},
     "output_type": "execute_result"
    }
   ],
   "source": [
    "data2[\"t\"] = np.arange(1,43)\n",
    "data2[\"t_squared\"] = data2[\"t\"]*data2[\"t\"]\n",
    "data2[\"sales_log\"] = np.log(data2[\"Sales\"])\n",
    "data2.head()"
   ]
  },
  {
   "cell_type": "code",
   "execution_count": 24,
   "id": "b7068e4d",
   "metadata": {},
   "outputs": [],
   "source": [
    "# Splitting data into Train and Test (77/33)\n",
    "Train = data2.head(32)\n",
    "Test = data2.tail(10)"
   ]
  },
  {
   "cell_type": "code",
   "execution_count": 25,
   "id": "d2fc765e",
   "metadata": {},
   "outputs": [
    {
     "data": {
      "text/plain": [
       "752.9233932767132"
      ]
     },
     "execution_count": 25,
     "metadata": {},
     "output_type": "execute_result"
    }
   ],
   "source": [
    "linear_model = smf.ols('Sales~t',data=Train).fit()\n",
    "pred_linear =  pd.Series(linear_model.predict(pd.DataFrame(Test['t'])))\n",
    "rmse_linear_model = RMSE(Test['Sales'], pred_linear)\n",
    "rmse_linear_model"
   ]
  },
  {
   "cell_type": "code",
   "execution_count": 26,
   "id": "57a1ab89",
   "metadata": {},
   "outputs": [
    {
     "data": {
      "text/plain": [
       "457.7357355407399"
      ]
     },
     "execution_count": 26,
     "metadata": {},
     "output_type": "execute_result"
    }
   ],
   "source": [
    "Quad = smf.ols('Sales~t+t_squared',data=Train).fit()\n",
    "pred_Quad = pd.Series(Quad.predict(Test[[\"t\",\"t_squared\"]]))\n",
    "rmse_Quad_model = RMSE(Test['Sales'], pred_Quad)\n",
    "rmse_Quad_model"
   ]
  },
  {
   "cell_type": "code",
   "execution_count": 27,
   "id": "77dda5ef",
   "metadata": {},
   "outputs": [
    {
     "data": {
      "text/plain": [
       "590.3316432076668"
      ]
     },
     "execution_count": 27,
     "metadata": {},
     "output_type": "execute_result"
    }
   ],
   "source": [
    "Exp = smf.ols('sales_log~t',data=Train).fit()\n",
    "pred_Exp = pd.Series(Exp.predict(pd.DataFrame(Test['t'])))\n",
    "rmse_Exp_model = RMSE(Test['Sales'], np.exp(pred_Exp))\n",
    "rmse_Exp_model"
   ]
  },
  {
   "cell_type": "code",
   "execution_count": 28,
   "id": "396ccb9e",
   "metadata": {},
   "outputs": [
    {
     "data": {
      "text/html": [
       "<div>\n",
       "<style scoped>\n",
       "    .dataframe tbody tr th:only-of-type {\n",
       "        vertical-align: middle;\n",
       "    }\n",
       "\n",
       "    .dataframe tbody tr th {\n",
       "        vertical-align: top;\n",
       "    }\n",
       "\n",
       "    .dataframe thead th {\n",
       "        text-align: right;\n",
       "    }\n",
       "</style>\n",
       "<table border=\"1\" class=\"dataframe\">\n",
       "  <thead>\n",
       "    <tr style=\"text-align: right;\">\n",
       "      <th></th>\n",
       "      <th>MODEL</th>\n",
       "      <th>RMSE_Values</th>\n",
       "    </tr>\n",
       "  </thead>\n",
       "  <tbody>\n",
       "    <tr>\n",
       "      <th>2</th>\n",
       "      <td>rmse_Quad_model</td>\n",
       "      <td>457.735736</td>\n",
       "    </tr>\n",
       "    <tr>\n",
       "      <th>1</th>\n",
       "      <td>rmse_Exp_model</td>\n",
       "      <td>590.331643</td>\n",
       "    </tr>\n",
       "    <tr>\n",
       "      <th>0</th>\n",
       "      <td>rmse_linear_model</td>\n",
       "      <td>752.923393</td>\n",
       "    </tr>\n",
       "  </tbody>\n",
       "</table>\n",
       "</div>"
      ],
      "text/plain": [
       "               MODEL  RMSE_Values\n",
       "2    rmse_Quad_model   457.735736\n",
       "1     rmse_Exp_model   590.331643\n",
       "0  rmse_linear_model   752.923393"
      ]
     },
     "execution_count": 28,
     "metadata": {},
     "output_type": "execute_result"
    }
   ],
   "source": [
    "data = {\"MODEL\":pd.Series([\"rmse_linear_model\",\"rmse_Exp_model\",\"rmse_Quad_model\"]),\"RMSE_Values\":pd.Series([rmse_linear_model,rmse_Exp_model,rmse_Quad_model,])}\n",
    "table_rmse=pd.DataFrame(data)\n",
    "table_rmse.sort_values(['RMSE_Values'])"
   ]
  },
  {
   "cell_type": "markdown",
   "id": "ff7eb989",
   "metadata": {},
   "source": [
    "# ARIMA Model"
   ]
  },
  {
   "cell_type": "code",
   "execution_count": 29,
   "id": "731a16da",
   "metadata": {},
   "outputs": [
    {
     "data": {
      "text/html": [
       "<div>\n",
       "<style scoped>\n",
       "    .dataframe tbody tr th:only-of-type {\n",
       "        vertical-align: middle;\n",
       "    }\n",
       "\n",
       "    .dataframe tbody tr th {\n",
       "        vertical-align: top;\n",
       "    }\n",
       "\n",
       "    .dataframe thead th {\n",
       "        text-align: right;\n",
       "    }\n",
       "</style>\n",
       "<table border=\"1\" class=\"dataframe\">\n",
       "  <thead>\n",
       "    <tr style=\"text-align: right;\">\n",
       "      <th></th>\n",
       "      <th>Sales</th>\n",
       "    </tr>\n",
       "    <tr>\n",
       "      <th>Quarter</th>\n",
       "      <th></th>\n",
       "    </tr>\n",
       "  </thead>\n",
       "  <tbody>\n",
       "    <tr>\n",
       "      <th>Q1_86</th>\n",
       "      <td>1734.827000</td>\n",
       "    </tr>\n",
       "    <tr>\n",
       "      <th>Q2_86</th>\n",
       "      <td>2244.960999</td>\n",
       "    </tr>\n",
       "    <tr>\n",
       "      <th>Q3_86</th>\n",
       "      <td>2533.804993</td>\n",
       "    </tr>\n",
       "    <tr>\n",
       "      <th>Q4_86</th>\n",
       "      <td>2154.962997</td>\n",
       "    </tr>\n",
       "    <tr>\n",
       "      <th>Q1_87</th>\n",
       "      <td>1547.818996</td>\n",
       "    </tr>\n",
       "  </tbody>\n",
       "</table>\n",
       "</div>"
      ],
      "text/plain": [
       "               Sales\n",
       "Quarter             \n",
       "Q1_86    1734.827000\n",
       "Q2_86    2244.960999\n",
       "Q3_86    2533.804993\n",
       "Q4_86    2154.962997\n",
       "Q1_87    1547.818996"
      ]
     },
     "execution_count": 29,
     "metadata": {},
     "output_type": "execute_result"
    }
   ],
   "source": [
    "data3 = pd.read_excel(\"C:\\Local Disk (A);\\Excelr\\Assignment Excelr\\\\18 Forecasting\\CocaCola_Sales_Rawdata.xlsx\",header=0,index_col=0, parse_dates=True)\n",
    "data3.head()"
   ]
  },
  {
   "cell_type": "code",
   "execution_count": 30,
   "id": "4ef64c18",
   "metadata": {},
   "outputs": [
    {
     "name": "stdout",
     "output_type": "stream",
     "text": [
      "Dataset 30, Validation 12\n"
     ]
    }
   ],
   "source": [
    "# separate out a validation dataset\n",
    "split_point = len(data3) - 12\n",
    "dataset, validation = data3[0:split_point], data3[split_point:]\n",
    "print('Dataset %d, Validation %d' % (len(dataset), len(validation)))"
   ]
  },
  {
   "cell_type": "code",
   "execution_count": 31,
   "id": "5e0d998f",
   "metadata": {},
   "outputs": [],
   "source": [
    "dataset.to_csv('dataset.csv', header=False)\n",
    "validation.to_csv('validation.csv', header=False)"
   ]
  },
  {
   "cell_type": "code",
   "execution_count": 32,
   "id": "4387c282",
   "metadata": {},
   "outputs": [],
   "source": [
    "# evaluate a persistence model\n",
    "from pandas import read_csv\n",
    "from sklearn.metrics import mean_squared_error\n",
    "from math import sqrt"
   ]
  },
  {
   "cell_type": "code",
   "execution_count": 33,
   "id": "8fa4c9c4",
   "metadata": {},
   "outputs": [
    {
     "data": {
      "text/plain": [
       "0\n",
       "Q1_86    1734.827000\n",
       "Q2_86    2244.960999\n",
       "Q3_86    2533.804993\n",
       "Q4_86    2154.962997\n",
       "Q1_87    1547.818996\n",
       "Q2_87    2104.411995\n",
       "Q3_87    2014.362999\n",
       "Q4_87    1991.746998\n",
       "Q1_88    1869.049999\n",
       "Q2_88    2313.631996\n",
       "Q3_88    2128.320000\n",
       "Q4_88    2026.828999\n",
       "Q1_89    1910.603996\n",
       "Q2_89    2331.164993\n",
       "Q3_89    2206.549995\n",
       "Q4_89    2173.967995\n",
       "Q1_90    2148.278000\n",
       "Q2_90    2739.307999\n",
       "Q3_90    2792.753998\n",
       "Q4_90    2556.009995\n",
       "Q1_91    2480.973999\n",
       "Q2_91    3039.522995\n",
       "Q3_91    3172.115997\n",
       "Q4_91    2879.000999\n",
       "Q1_92    2772.000000\n",
       "Q2_92    3550.000000\n",
       "Q3_92    3508.000000\n",
       "Q4_92    3243.859993\n",
       "Q1_93    3056.000000\n",
       "Q2_93    3899.000000\n",
       "Name: 1, dtype: float64"
      ]
     },
     "execution_count": 33,
     "metadata": {},
     "output_type": "execute_result"
    }
   ],
   "source": [
    "# load data\n",
    "train = read_csv('dataset.csv', header=None, index_col=0, parse_dates=True, squeeze=True)\n",
    "train"
   ]
  },
  {
   "cell_type": "code",
   "execution_count": 34,
   "id": "8c008285",
   "metadata": {},
   "outputs": [],
   "source": [
    "# prepare data\n",
    "X = train.values\n",
    "X = X.astype('float32')\n",
    "train_size = int(len(X) * 0.715)\n",
    "train, test = X[0:train_size], X[train_size:]"
   ]
  },
  {
   "cell_type": "code",
   "execution_count": 35,
   "id": "4a505b48",
   "metadata": {},
   "outputs": [
    {
     "name": "stdout",
     "output_type": "stream",
     "text": [
      "(21,)\n",
      "(9,)\n"
     ]
    }
   ],
   "source": [
    "print(train.shape)\n",
    "print(test.shape)"
   ]
  },
  {
   "cell_type": "code",
   "execution_count": 36,
   "id": "f468bcad",
   "metadata": {},
   "outputs": [
    {
     "name": "stdout",
     "output_type": "stream",
     "text": [
      ">Predicted=2480.974, Expected=3039.523\n",
      ">Predicted=3039.523, Expected=3172.116\n",
      ">Predicted=3172.116, Expected=2879.001\n",
      ">Predicted=2879.001, Expected=2772.000\n",
      ">Predicted=2772.000, Expected=3550.000\n",
      ">Predicted=3550.000, Expected=3508.000\n",
      ">Predicted=3508.000, Expected=3243.860\n",
      ">Predicted=3243.860, Expected=3056.000\n",
      ">Predicted=3056.000, Expected=3899.000\n",
      "RMSE: 453.343\n"
     ]
    }
   ],
   "source": [
    "# walk-forward validation\n",
    "history = [x for x in train]\n",
    "predictions = list()\n",
    "for i in range(len(test)):\n",
    "    yhat = history[-1]\n",
    "    predictions.append(yhat)\n",
    "# observation\n",
    "    obs = test[i]\n",
    "    history.append(obs)\n",
    "    print('>Predicted=%.3f, Expected=%.3f' % (yhat, obs))\n",
    "# report performance\n",
    "rmse = sqrt(mean_squared_error(test, predictions))\n",
    "print('RMSE: %.3f' % rmse)"
   ]
  },
  {
   "cell_type": "code",
   "execution_count": 37,
   "id": "d219793f",
   "metadata": {
    "scrolled": true
   },
   "outputs": [
    {
     "data": {
      "text/html": [
       "<div>\n",
       "<style scoped>\n",
       "    .dataframe tbody tr th:only-of-type {\n",
       "        vertical-align: middle;\n",
       "    }\n",
       "\n",
       "    .dataframe tbody tr th {\n",
       "        vertical-align: top;\n",
       "    }\n",
       "\n",
       "    .dataframe thead th {\n",
       "        text-align: right;\n",
       "    }\n",
       "</style>\n",
       "<table border=\"1\" class=\"dataframe\">\n",
       "  <thead>\n",
       "    <tr style=\"text-align: right;\">\n",
       "      <th></th>\n",
       "      <th>MODEL</th>\n",
       "      <th>RMSE_Values</th>\n",
       "    </tr>\n",
       "  </thead>\n",
       "  <tbody>\n",
       "    <tr>\n",
       "      <th>7</th>\n",
       "      <td>rmse_ARIMA</td>\n",
       "      <td>453.343361</td>\n",
       "    </tr>\n",
       "    <tr>\n",
       "      <th>6</th>\n",
       "      <td>rmse_Quad_model</td>\n",
       "      <td>457.735736</td>\n",
       "    </tr>\n",
       "    <tr>\n",
       "      <th>3</th>\n",
       "      <td>rmse_hwe_model_mul_add_model</td>\n",
       "      <td>568.167986</td>\n",
       "    </tr>\n",
       "    <tr>\n",
       "      <th>5</th>\n",
       "      <td>rmse_Exp_model</td>\n",
       "      <td>590.331643</td>\n",
       "    </tr>\n",
       "    <tr>\n",
       "      <th>2</th>\n",
       "      <td>rmse_hwe_add_add_model</td>\n",
       "      <td>633.439405</td>\n",
       "    </tr>\n",
       "    <tr>\n",
       "      <th>4</th>\n",
       "      <td>rmse_linear_model</td>\n",
       "      <td>752.923393</td>\n",
       "    </tr>\n",
       "    <tr>\n",
       "      <th>1</th>\n",
       "      <td>rmse_hw_model</td>\n",
       "      <td>941.636781</td>\n",
       "    </tr>\n",
       "    <tr>\n",
       "      <th>0</th>\n",
       "      <td>rmse_ses_model</td>\n",
       "      <td>1034.935906</td>\n",
       "    </tr>\n",
       "  </tbody>\n",
       "</table>\n",
       "</div>"
      ],
      "text/plain": [
       "                          MODEL  RMSE_Values\n",
       "7                    rmse_ARIMA   453.343361\n",
       "6               rmse_Quad_model   457.735736\n",
       "3  rmse_hwe_model_mul_add_model   568.167986\n",
       "5                rmse_Exp_model   590.331643\n",
       "2        rmse_hwe_add_add_model   633.439405\n",
       "4             rmse_linear_model   752.923393\n",
       "1                 rmse_hw_model   941.636781\n",
       "0                rmse_ses_model  1034.935906"
      ]
     },
     "execution_count": 37,
     "metadata": {},
     "output_type": "execute_result"
    }
   ],
   "source": [
    "data = {\"MODEL\":pd.Series([\"rmse_ses_model\",\"rmse_hw_model\",\"rmse_hwe_add_add_model\",\"rmse_hwe_model_mul_add_model\",\"rmse_linear_model\",\"rmse_Exp_model\",\"rmse_Quad_model\",\"rmse_ARIMA\"]),\"RMSE_Values\":pd.Series([rmse_ses_model,rmse_hw_model,rmse_hwe_add_add_model,rmse_hwe_model_mul_add_model,rmse_linear_model,rmse_Exp_model,rmse_Quad_model,rmse])}\n",
    "table_rmse=pd.DataFrame(data)\n",
    "table_rmse.sort_values(['RMSE_Values'])"
   ]
  },
  {
   "cell_type": "code",
   "execution_count": null,
   "id": "e5a0ebb8",
   "metadata": {},
   "outputs": [],
   "source": []
  }
 ],
 "metadata": {
  "kernelspec": {
   "display_name": "Python 3 (ipykernel)",
   "language": "python",
   "name": "python3"
  },
  "language_info": {
   "codemirror_mode": {
    "name": "ipython",
    "version": 3
   },
   "file_extension": ".py",
   "mimetype": "text/x-python",
   "name": "python",
   "nbconvert_exporter": "python",
   "pygments_lexer": "ipython3",
   "version": "3.9.13"
  }
 },
 "nbformat": 4,
 "nbformat_minor": 5
}
